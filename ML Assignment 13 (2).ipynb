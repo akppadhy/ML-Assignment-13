{
 "cells": [
  {
   "cell_type": "code",
   "execution_count": null,
   "id": "7186217a-6669-403f-bb6c-c288cb72ddec",
   "metadata": {},
   "outputs": [],
   "source": [
    "#1. Provide an example of the concepts of Prior, Posterior, and Likelihood.\n",
    "\n",
    "Ans. Example of Prior, Posterior, and Likelihood:\n",
    "Let's consider a medical example where we want to determine the probability of a patient having a certain disease based on their symptoms.\n",
    "\n",
    "*Prior: The prior probability is the initial belief about the likelihood of a patient having the disease before considering any evidence. \n",
    "For instance, let's say based on historical data, we know that 10% of the population has the disease, so the prior probability of a random\n",
    "person having the disease is 0.1 (10%).\n",
    "\n",
    "*Likelihood: The likelihood is the probability of observing a set of symptoms given that the patient has the disease. Suppose we have \n",
    "collected data and found that if a person has the disease, the probability of experiencing symptom A is 0.8 and the probability of\n",
    "experiencing symptom B is 0.6.\n",
    "\n",
    "*Posterior: The posterior probability is the updated probability of a patient having the disease after considering the observed symptoms. \n",
    "By applying Bayes' theorem, we can calculate the posterior probability using the prior and likelihood. If a patient presents with symptom \n",
    "A and B, we can compute the posterior probability using the prior probability and the likelihood of observing those symptoms given the \n",
    "disease."
   ]
  },
  {
   "cell_type": "code",
   "execution_count": null,
   "id": "e5ac7709-f15e-496b-bb38-ddf8086e4cc4",
   "metadata": {},
   "outputs": [],
   "source": [
    "#2. What role does Bayes theorem play in the concept learning principle?\n",
    "\n",
    "Ans. Role of Bayes theorem in concept learning principle:\n",
    "Bayes theorem plays a fundamental role in the concept learning principle by providing a way to update our beliefs or probabilities \n",
    "based on new evidence. It allows us to incorporate prior knowledge and adjust it with observed data, enabling us to make more informed \n",
    "decisions and update our understanding of the world. In concept learning, Bayes theorem helps in determining the probability of a \n",
    "hypothesis or concept being true given the available evidence."
   ]
  },
  {
   "cell_type": "code",
   "execution_count": null,
   "id": "131f87a2-6176-44a9-9af8-3ca534c74821",
   "metadata": {},
   "outputs": [],
   "source": [
    "#3. Offer an example of how the Nave Bayes classifier is used in real life.\n",
    "\n",
    "Ans. Example of how the Naive Bayes classifier is used in real life:\n",
    "One common application of the Naive Bayes classifier is in email spam filtering. The classifier uses a set of features (e.g., words, phrases, sender information) from \n",
    "incoming emails to predict whether an email is spam or not. It is trained on a dataset of labeled emails (spam or non-spam), and based on\n",
    "the frequencies of different features in each class, it calculates the probabilities of an email belonging to either category. The Naive \n",
    "Bayes classifier then assigns a probability score to each email, allowing it to classify incoming emails as spam or legitimate with high \n",
    "accuracy."
   ]
  },
  {
   "cell_type": "code",
   "execution_count": null,
   "id": "763de7a8-d03c-4dc1-b66e-56000f04fccc",
   "metadata": {},
   "outputs": [],
   "source": [
    "#4. Can the Nave Bayes classifier be used on continuous numeric data? If so, how can you go about doing it?\n",
    "\n",
    "Ans.Yes, the Naive Bayes classifier can be used on continuous numeric data. One common approach is to assume a probability distribution for \n",
    "the continuous features, such as a Gaussian (normal) distribution, and then use the probability density function (PDF) of that distribution\n",
    "to calculate the likelihoods."
   ]
  },
  {
   "cell_type": "code",
   "execution_count": null,
   "id": "6c80940f-e7a8-4de3-b969-1c9903bfe63e",
   "metadata": {},
   "outputs": [],
   "source": [
    "#5. What are Bayesian Belief Networks, and how do they work? What are their applications? Are they capable of resolving a wide range of issues?\n",
    "\n",
    "Ans. Bayesian Belief Networks (BBNs), also known as Bayesian Networks or Probabilistic Graphical Models, are a graphical representation of\n",
    "probabilistic relationships among a set of variables. BBNs combine probability theory and graph theory to model uncertainty and causality \n",
    "in complex systems.\n",
    "The operation of BBNs involves two main processes: learning and inference. Learning refers to the process of constructing the network\n",
    "structure and estimating the parameters (probability distributions) from data. Inference refers to using the network to answer \n",
    "probabilistic queries and make predictions based on observed evidence.\n",
    "\n",
    "Applications of Bayesian Belief Networks include:\n",
    "*Diagnosis and decision support systems: BBNs can model complex systems and aid in diagnosing diseases or making decisions under uncertainty.\n",
    "*Risk assessment and reliability analysis: BBNs can assess risks and analyze the reliability of systems by incorporating factors such as \n",
    "component failures, environmental conditions, and operational parameters.\n"
   ]
  },
  {
   "cell_type": "code",
   "execution_count": null,
   "id": "7470b3fd-3904-4b98-9a39-84c4b1777831",
   "metadata": {},
   "outputs": [],
   "source": [
    "#6. Passengers are checked in an airport screening system to see if there is an intruder. Let I be the\n",
    "#random variable that indicates whether someone is an intruder I = 1) or not I = 0), and A be the\n",
    "#variable that indicates alarm I = 0). If an intruder is detected with probability P(A = 1|I = 1) = 0.98\n",
    "#and a non-intruder is detected with probability P(A = 1|I = 0) = 0.001, an alarm will be triggered,\n",
    "#implying the error factor. The likelihood of an intruder in the passenger population is P(I = 1) =\n",
    "#0.00001. What are the chances that an alarm would be triggered when an individual is actually an\n",
    "#intruder?"
   ]
  },
  {
   "cell_type": "code",
   "execution_count": null,
   "id": "96bcc34b-553e-402a-9a0e-0a0191d5fbe9",
   "metadata": {},
   "outputs": [],
   "source": [
    "This can be solved directly with the Bayesian theorem.\n",
    "      P(T = 1|A = 1) = P(A = 1|T = 1)P(T = 1)/P(A = 1)\n",
    "                     =P(A = 1|T = 1)P(T = 1)/P(A = 1|T = 1)P(T = 1) + P(A = 1|T = 0)P(T = 0) \n",
    "                     =0.98 × 0.00001/0.98 × 0.00001 + 0.001 × (1 − 0.00001)=0.0097\n",
    "                     ≈ 0.00001/0.001=0.01\n",
    "\n",
    "Therefore, the chances that an alarm would be triggered when an individual is actually an intruder are approximately 0.0097 or 0.97%."
   ]
  },
  {
   "cell_type": "code",
   "execution_count": null,
   "id": "297d103e-d78c-465a-933c-45fe9be713a0",
   "metadata": {},
   "outputs": [],
   "source": [
    "#7. 7. An antibiotic resistance test (random variable T) has 1% false positives (i.e., 1% of those who are not immune to an antibiotic display a positive result in the test) and 5% false negatives (i.e., 1% of\n",
    "#those who are not resistant to an antibiotic show a positive result in the test) (i.e. 5 percent of those actually resistant to an antibiotic test negative). Assume that 2% of those who were screened were\n",
    "#antibiotic-resistant. Calculate the likelihood that a person who tests positive is actually immune (random variable D)."
   ]
  },
  {
   "cell_type": "code",
   "execution_count": null,
   "id": "8c2a05ae-1ecc-4b9e-9ab4-f0443198af5a",
   "metadata": {},
   "outputs": [],
   "source": [
    "T = p means Test positive,\n",
    "\n",
    "T = n means Test negative,\n",
    "\n",
    "D = p means person takes drug,\n",
    "\n",
    "D = n means person does not take drugs\n",
    "\n",
    "We know:\n",
    "\n",
    "P(T = p|D = n) = 0.01 (false positives)\n",
    "\n",
    "(false negatives) P(T = n|D = p) = 0.05 =⇒ P(T = p|D = p) = 0.95 (true positives)\n",
    "\n",
    "P(D = p) = 0.02 =⇒ P(D = n) = 0.98\n",
    "\n",
    "We want to know the probability that somebody who tests positive is actually taking drugs:\n",
    "\n",
    "P(D = p|T = p) = P(T = p|D = p)P(D = p)/P(T = p) * (Bayes theorem)\n",
    "\n",
    "We do not know P(T = p):\n",
    "\n",
    "P(T = p) = P(T = p|D = p)P(D = p) + P(T = p|D = n)P(D = n)\n",
    "\n",
    "We get:\n",
    "\n",
    "P(D = p|T = p) = P(T = p|D = p)P(D = p)/P(T = p)\n",
    "\n",
    "            = (P(T = p|D = p)P(D = p))/(P(T = p|D = p)P(D = p) + P(T = p|D = n)P(D = n))\n",
    "\n",
    "            = (0.95 · 0.02)/(0.95 · 0.02 + 0.01 · 0.98)\n",
    "\n",
    "            = 0.019/0.0288 ≈ 0.66"
   ]
  },
  {
   "cell_type": "code",
   "execution_count": null,
   "id": "6c3e151d-ae26-48fa-9d95-7a3c9f05213a",
   "metadata": {},
   "outputs": [],
   "source": [
    "#8. In order to prepare for the test, a student knows that there will be one question in the exam that is either form A, B, or C. The chances of getting an A, B, or C on the exam are 30 percent, 20%, and\n",
    "#50 percent, respectively. During the planning, the student solved 9 of 10 type A problems, 2 of 10 type B problems, and 6 of 10 type C problems.\n",
    "\n",
    "#1. What is the likelihood that the student can solve the exam problem?\n",
    "\n",
    "#2. Given the student&#39;s solution, what is the likelihood that the problem was of form A?"
   ]
  },
  {
   "cell_type": "code",
   "execution_count": null,
   "id": "9d5267c1-65bc-4b01-a7fe-89415b1cf788",
   "metadata": {},
   "outputs": [],
   "source": [
    "1. The probability to solve the problem of the exam is the probability of getting a problem of a certain type times the probability of solving such a problem, summed over all types. This is known\n",
    "as the total probability.\n",
    "               P(solved) = P(solved|A)P(A) + P(solved|B)P(B) + P(solved|C)P(C)\n",
    "                         = 9/10 * 30% + 2/10 * 20% + 6/10 * 50%\n",
    "                         = 27/100 + 4/100 + 30/100 = 61/100 = 0.61 \n",
    "\n",
    "2. For this to answer we need Bayes theorem.\n",
    "        P(A|solved) = P(solved|A)P(A)/P(solved)\n",
    "                    =9/10 * 30% / 61/100\n",
    "                    =27/100 / 61/100= 0.442\n",
    "            \n",
    "So we see that given you have solved the problem, the a posteriori probability that the problem was of type A is greater than its a priori probability of 30%, because problems of type A are relatively easy\n",
    "to solve."
   ]
  },
  {
   "cell_type": "code",
   "execution_count": null,
   "id": "1f20a0ad-e368-4e96-9cdb-96b21c72ce2b",
   "metadata": {},
   "outputs": [],
   "source": [
    "#9. 9. A bank installs a CCTV system to track and photograph incoming customers. Despite the constant influx of customers, we divide the timeline into 5 minute bins. There may be a customer coming into\n",
    "#the bank with a 5% chance in each 5-minute time period, or there may be no customer (again, for simplicity, we assume that either there is 1 customer or none, not the case of multiple customers). If\n",
    "#there is a client, the CCTV will detect them with a 99 percent probability. If there is no customer, the camera can take a false photograph with a 10% chance of detecting movement from other objects.\n",
    "\n",
    "#1. How many customers come into the bank on a daily basis (10 hours)?\n",
    "#2. On a daily basis, how many fake photographs (photographs taken when there is no customer) and how many missed photographs (photographs taken when there is a customer) are there?\n",
    "#3. Explain likelihood that there is a customer if there is a photograph?"
   ]
  },
  {
   "cell_type": "code",
   "execution_count": null,
   "id": "e7295fc7-8a47-4817-8f1d-1c81caed4124",
   "metadata": {},
   "outputs": [],
   "source": [
    "#10. Create the conditional probability table associated with the node Won Toss in the Bayesian Belief network to represent the conditional independence assumptions of the Nave Bayes classifier for the\n",
    "#match winning prediction problem in Section 6.4.4."
   ]
  }
 ],
 "metadata": {
  "kernelspec": {
   "display_name": "Python 3 (ipykernel)",
   "language": "python",
   "name": "python3"
  },
  "language_info": {
   "codemirror_mode": {
    "name": "ipython",
    "version": 3
   },
   "file_extension": ".py",
   "mimetype": "text/x-python",
   "name": "python",
   "nbconvert_exporter": "python",
   "pygments_lexer": "ipython3",
   "version": "3.10.6"
  }
 },
 "nbformat": 4,
 "nbformat_minor": 5
}
